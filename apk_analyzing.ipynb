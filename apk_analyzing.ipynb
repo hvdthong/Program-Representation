{
 "cells": [
  {
   "cell_type": "code",
   "execution_count": 1,
   "metadata": {},
   "outputs": [],
   "source": [
    "import pandas as pd\n",
    "import os"
   ]
  },
  {
   "cell_type": "code",
   "execution_count": 2,
   "metadata": {},
   "outputs": [],
   "source": [
    "def read_file(fname):\n",
    "    with open(fname) as f:\n",
    "        content = f.readlines()\n",
    "    return [x.strip() for x in content]"
   ]
  },
  {
   "cell_type": "code",
   "execution_count": 3,
   "metadata": {},
   "outputs": [],
   "source": [
    "path_files = '/media/hvdthong/cd8eddc8-4ee9-44d6-b7a1-52d9d4bd677c/DATA_PROGRAM_REPRESENTATION/apk_collection'\n",
    "files = os.listdir(path_files)\n",
    "files = [file.replace('.apk', '') for file in files]"
   ]
  },
  {
   "cell_type": "code",
   "execution_count": 4,
   "metadata": {},
   "outputs": [
    {
     "name": "stdout",
     "output_type": "stream",
     "text": [
      "220771\n"
     ]
    }
   ],
   "source": [
    "print(len(files))  # number of apk applications in our dataset"
   ]
  },
  {
   "cell_type": "code",
   "execution_count": 5,
   "metadata": {},
   "outputs": [],
   "source": [
    "path_data = '/media/hvdthong/cd8eddc8-4ee9-44d6-b7a1-52d9d4bd677c/DATA_PROGRAM_REPRESENTATION/latest.csv'\n",
    "data = pd.read_csv(path_data, delimiter=',')"
   ]
  },
  {
   "cell_type": "code",
   "execution_count": 6,
   "metadata": {},
   "outputs": [
    {
     "name": "stdout",
     "output_type": "stream",
     "text": [
      "8897114\n"
     ]
    }
   ],
   "source": [
    "print(len(data))"
   ]
  },
  {
   "cell_type": "code",
   "execution_count": 7,
   "metadata": {},
   "outputs": [],
   "source": [
    "data_info = data[data['pkg_name'].isin(files)]\n",
    "data_info = data_info.sort_values(by=['pkg_name', 'dex_date'], ascending=[True, False])"
   ]
  },
  {
   "cell_type": "code",
   "execution_count": 8,
   "metadata": {},
   "outputs": [
    {
     "data": {
      "text/html": [
       "<div>\n",
       "<style scoped>\n",
       "    .dataframe tbody tr th:only-of-type {\n",
       "        vertical-align: middle;\n",
       "    }\n",
       "\n",
       "    .dataframe tbody tr th {\n",
       "        vertical-align: top;\n",
       "    }\n",
       "\n",
       "    .dataframe thead th {\n",
       "        text-align: right;\n",
       "    }\n",
       "</style>\n",
       "<table border=\"1\" class=\"dataframe\">\n",
       "  <thead>\n",
       "    <tr style=\"text-align: right;\">\n",
       "      <th></th>\n",
       "      <th>sha256</th>\n",
       "      <th>sha1</th>\n",
       "      <th>md5</th>\n",
       "      <th>dex_date</th>\n",
       "      <th>apk_size</th>\n",
       "      <th>pkg_name</th>\n",
       "      <th>vercode</th>\n",
       "      <th>vt_detection</th>\n",
       "      <th>vt_scan_date</th>\n",
       "      <th>dex_size</th>\n",
       "      <th>markets</th>\n",
       "    </tr>\n",
       "  </thead>\n",
       "  <tbody>\n",
       "    <tr>\n",
       "      <th>8073590</th>\n",
       "      <td>E8509099028F0513E1C2B9CFC92B863BACF0972634D2DA...</td>\n",
       "      <td>B0831CABDAC7430E1BEA639F6CA000B8FECDA9EB</td>\n",
       "      <td>20B0B2BFFB872D639B922CB885FC1475</td>\n",
       "      <td>2015-08-28 07:13:40</td>\n",
       "      <td>1205663</td>\n",
       "      <td>ATIPIC_EVAL.GUI</td>\n",
       "      <td>15.0</td>\n",
       "      <td>0.0</td>\n",
       "      <td>2016-02-02 14:30:50</td>\n",
       "      <td>608128</td>\n",
       "      <td>play.google.com</td>\n",
       "    </tr>\n",
       "    <tr>\n",
       "      <th>4653482</th>\n",
       "      <td>85DF6336175ECB308BB3498EFE36232EE4516C92F58A45...</td>\n",
       "      <td>0024F88420B3DFAEF8A695C257836A5E2B533235</td>\n",
       "      <td>4FA65D88D284F10DE63F7068D95E5F88</td>\n",
       "      <td>2015-05-05 07:30:20</td>\n",
       "      <td>1183861</td>\n",
       "      <td>ATIPIC_EVAL.GUI</td>\n",
       "      <td>14.0</td>\n",
       "      <td>0.0</td>\n",
       "      <td>2015-10-24 18:52:19</td>\n",
       "      <td>599992</td>\n",
       "      <td>play.google.com</td>\n",
       "    </tr>\n",
       "    <tr>\n",
       "      <th>5280740</th>\n",
       "      <td>97E71DAF922FADE28DCC4895A8F9C6D3C05CDAF91A2EFB...</td>\n",
       "      <td>60e902859d93b2fa5ec869d05ce5514935def4a0</td>\n",
       "      <td>60549c042fba22a284fd2101a9729a46</td>\n",
       "      <td>2014-03-12 07:18:08</td>\n",
       "      <td>1328720</td>\n",
       "      <td>ATIPIC_EVAL.GUI</td>\n",
       "      <td>12.0</td>\n",
       "      <td>0.0</td>\n",
       "      <td>2014-07-04 08:05:47</td>\n",
       "      <td>502328</td>\n",
       "      <td>play.google.com</td>\n",
       "    </tr>\n",
       "    <tr>\n",
       "      <th>2999465</th>\n",
       "      <td>565B857E52B45348BA5A9829B2B8888C879FC11F32F1A4...</td>\n",
       "      <td>8bb7ff012138fbf2b55eb1ae32a228eb22e33d09</td>\n",
       "      <td>0e9fea70dc7cbe5c0997a39da9a2c188</td>\n",
       "      <td>2013-10-10 07:20:48</td>\n",
       "      <td>1290069</td>\n",
       "      <td>ATIPIC_EVAL.GUI</td>\n",
       "      <td>11.0</td>\n",
       "      <td>0.0</td>\n",
       "      <td>2013-11-27 15:32:36</td>\n",
       "      <td>477300</td>\n",
       "      <td>play.google.com</td>\n",
       "    </tr>\n",
       "    <tr>\n",
       "      <th>4029119</th>\n",
       "      <td>73F2480E5D76D8BC4AADB56B24EBCD0844AB11C9AE4DFC...</td>\n",
       "      <td>ACDEB9368D521BC6089BC76FE392AB81605AC4FA</td>\n",
       "      <td>88D5B49C5D72AE95E268C8A1056B1CE5</td>\n",
       "      <td>2015-07-09 22:12:46</td>\n",
       "      <td>3539277</td>\n",
       "      <td>Android.ComicData</td>\n",
       "      <td>45.0</td>\n",
       "      <td>0.0</td>\n",
       "      <td>2016-03-16 09:26:13</td>\n",
       "      <td>5838184</td>\n",
       "      <td>play.google.com</td>\n",
       "    </tr>\n",
       "  </tbody>\n",
       "</table>\n",
       "</div>"
      ],
      "text/plain": [
       "                                                    sha256  \\\n",
       "8073590  E8509099028F0513E1C2B9CFC92B863BACF0972634D2DA...   \n",
       "4653482  85DF6336175ECB308BB3498EFE36232EE4516C92F58A45...   \n",
       "5280740  97E71DAF922FADE28DCC4895A8F9C6D3C05CDAF91A2EFB...   \n",
       "2999465  565B857E52B45348BA5A9829B2B8888C879FC11F32F1A4...   \n",
       "4029119  73F2480E5D76D8BC4AADB56B24EBCD0844AB11C9AE4DFC...   \n",
       "\n",
       "                                             sha1  \\\n",
       "8073590  B0831CABDAC7430E1BEA639F6CA000B8FECDA9EB   \n",
       "4653482  0024F88420B3DFAEF8A695C257836A5E2B533235   \n",
       "5280740  60e902859d93b2fa5ec869d05ce5514935def4a0   \n",
       "2999465  8bb7ff012138fbf2b55eb1ae32a228eb22e33d09   \n",
       "4029119  ACDEB9368D521BC6089BC76FE392AB81605AC4FA   \n",
       "\n",
       "                                      md5             dex_date  apk_size  \\\n",
       "8073590  20B0B2BFFB872D639B922CB885FC1475  2015-08-28 07:13:40   1205663   \n",
       "4653482  4FA65D88D284F10DE63F7068D95E5F88  2015-05-05 07:30:20   1183861   \n",
       "5280740  60549c042fba22a284fd2101a9729a46  2014-03-12 07:18:08   1328720   \n",
       "2999465  0e9fea70dc7cbe5c0997a39da9a2c188  2013-10-10 07:20:48   1290069   \n",
       "4029119  88D5B49C5D72AE95E268C8A1056B1CE5  2015-07-09 22:12:46   3539277   \n",
       "\n",
       "                  pkg_name  vercode  vt_detection         vt_scan_date  \\\n",
       "8073590    ATIPIC_EVAL.GUI     15.0           0.0  2016-02-02 14:30:50   \n",
       "4653482    ATIPIC_EVAL.GUI     14.0           0.0  2015-10-24 18:52:19   \n",
       "5280740    ATIPIC_EVAL.GUI     12.0           0.0  2014-07-04 08:05:47   \n",
       "2999465    ATIPIC_EVAL.GUI     11.0           0.0  2013-11-27 15:32:36   \n",
       "4029119  Android.ComicData     45.0           0.0  2016-03-16 09:26:13   \n",
       "\n",
       "         dex_size          markets  \n",
       "8073590    608128  play.google.com  \n",
       "4653482    599992  play.google.com  \n",
       "5280740    502328  play.google.com  \n",
       "2999465    477300  play.google.com  \n",
       "4029119   5838184  play.google.com  "
      ]
     },
     "execution_count": 8,
     "metadata": {},
     "output_type": "execute_result"
    }
   ],
   "source": [
    "data_info.head()"
   ]
  },
  {
   "cell_type": "code",
   "execution_count": 9,
   "metadata": {},
   "outputs": [],
   "source": [
    "data_info = data_info.drop_duplicates('pkg_name', keep='first')"
   ]
  },
  {
   "cell_type": "code",
   "execution_count": 10,
   "metadata": {},
   "outputs": [
    {
     "data": {
      "text/html": [
       "<div>\n",
       "<style scoped>\n",
       "    .dataframe tbody tr th:only-of-type {\n",
       "        vertical-align: middle;\n",
       "    }\n",
       "\n",
       "    .dataframe tbody tr th {\n",
       "        vertical-align: top;\n",
       "    }\n",
       "\n",
       "    .dataframe thead th {\n",
       "        text-align: right;\n",
       "    }\n",
       "</style>\n",
       "<table border=\"1\" class=\"dataframe\">\n",
       "  <thead>\n",
       "    <tr style=\"text-align: right;\">\n",
       "      <th></th>\n",
       "      <th>sha256</th>\n",
       "      <th>sha1</th>\n",
       "      <th>md5</th>\n",
       "      <th>dex_date</th>\n",
       "      <th>apk_size</th>\n",
       "      <th>pkg_name</th>\n",
       "      <th>vercode</th>\n",
       "      <th>vt_detection</th>\n",
       "      <th>vt_scan_date</th>\n",
       "      <th>dex_size</th>\n",
       "      <th>markets</th>\n",
       "    </tr>\n",
       "  </thead>\n",
       "  <tbody>\n",
       "    <tr>\n",
       "      <th>8073590</th>\n",
       "      <td>E8509099028F0513E1C2B9CFC92B863BACF0972634D2DA...</td>\n",
       "      <td>B0831CABDAC7430E1BEA639F6CA000B8FECDA9EB</td>\n",
       "      <td>20B0B2BFFB872D639B922CB885FC1475</td>\n",
       "      <td>2015-08-28 07:13:40</td>\n",
       "      <td>1205663</td>\n",
       "      <td>ATIPIC_EVAL.GUI</td>\n",
       "      <td>15.0</td>\n",
       "      <td>0.0</td>\n",
       "      <td>2016-02-02 14:30:50</td>\n",
       "      <td>608128</td>\n",
       "      <td>play.google.com</td>\n",
       "    </tr>\n",
       "    <tr>\n",
       "      <th>4029119</th>\n",
       "      <td>73F2480E5D76D8BC4AADB56B24EBCD0844AB11C9AE4DFC...</td>\n",
       "      <td>ACDEB9368D521BC6089BC76FE392AB81605AC4FA</td>\n",
       "      <td>88D5B49C5D72AE95E268C8A1056B1CE5</td>\n",
       "      <td>2015-07-09 22:12:46</td>\n",
       "      <td>3539277</td>\n",
       "      <td>Android.ComicData</td>\n",
       "      <td>45.0</td>\n",
       "      <td>0.0</td>\n",
       "      <td>2016-03-16 09:26:13</td>\n",
       "      <td>5838184</td>\n",
       "      <td>play.google.com</td>\n",
       "    </tr>\n",
       "    <tr>\n",
       "      <th>4567262</th>\n",
       "      <td>8365B2A6DCB9E097BCD50975226858BFC6EE4F236F5DC4...</td>\n",
       "      <td>37A648F30FD5DDBECF247644F04C2D0227389E9B</td>\n",
       "      <td>89703756EC387E199D5F885906938D18</td>\n",
       "      <td>2015-08-11 00:31:56</td>\n",
       "      <td>890883</td>\n",
       "      <td>Android.JokeProject1</td>\n",
       "      <td>29.0</td>\n",
       "      <td>17.0</td>\n",
       "      <td>2018-11-01 16:39:02</td>\n",
       "      <td>847892</td>\n",
       "      <td>appchina</td>\n",
       "    </tr>\n",
       "    <tr>\n",
       "      <th>4038599</th>\n",
       "      <td>74386727C0162BD27654E1D066419E3DB95C868A34BF0E...</td>\n",
       "      <td>3B19DC19029A2983225DD9DD570111FA8D5FCDB6</td>\n",
       "      <td>BA63B934F117C17C9ADF00F44CC2D0E5</td>\n",
       "      <td>2015-10-17 17:21:26</td>\n",
       "      <td>3626990</td>\n",
       "      <td>Android.WirelessPassword</td>\n",
       "      <td>24.0</td>\n",
       "      <td>9.0</td>\n",
       "      <td>2016-03-29 11:22:40</td>\n",
       "      <td>7049264</td>\n",
       "      <td>play.google.com</td>\n",
       "    </tr>\n",
       "    <tr>\n",
       "      <th>6626248</th>\n",
       "      <td>BE9F31FF1B1D6686229A845C7E382C34ACFBA2618A9254...</td>\n",
       "      <td>1893E32F7345E1B0CCA206372AE1BF4465D1B75A</td>\n",
       "      <td>D40A385F3D37771CED6D9413A3A6314C</td>\n",
       "      <td>2015-08-27 09:43:44</td>\n",
       "      <td>3612714</td>\n",
       "      <td>ArgosHAN.Mobile</td>\n",
       "      <td>11.0</td>\n",
       "      <td>0.0</td>\n",
       "      <td>2016-02-02 14:34:41</td>\n",
       "      <td>1003292</td>\n",
       "      <td>play.google.com</td>\n",
       "    </tr>\n",
       "  </tbody>\n",
       "</table>\n",
       "</div>"
      ],
      "text/plain": [
       "                                                    sha256  \\\n",
       "8073590  E8509099028F0513E1C2B9CFC92B863BACF0972634D2DA...   \n",
       "4029119  73F2480E5D76D8BC4AADB56B24EBCD0844AB11C9AE4DFC...   \n",
       "4567262  8365B2A6DCB9E097BCD50975226858BFC6EE4F236F5DC4...   \n",
       "4038599  74386727C0162BD27654E1D066419E3DB95C868A34BF0E...   \n",
       "6626248  BE9F31FF1B1D6686229A845C7E382C34ACFBA2618A9254...   \n",
       "\n",
       "                                             sha1  \\\n",
       "8073590  B0831CABDAC7430E1BEA639F6CA000B8FECDA9EB   \n",
       "4029119  ACDEB9368D521BC6089BC76FE392AB81605AC4FA   \n",
       "4567262  37A648F30FD5DDBECF247644F04C2D0227389E9B   \n",
       "4038599  3B19DC19029A2983225DD9DD570111FA8D5FCDB6   \n",
       "6626248  1893E32F7345E1B0CCA206372AE1BF4465D1B75A   \n",
       "\n",
       "                                      md5             dex_date  apk_size  \\\n",
       "8073590  20B0B2BFFB872D639B922CB885FC1475  2015-08-28 07:13:40   1205663   \n",
       "4029119  88D5B49C5D72AE95E268C8A1056B1CE5  2015-07-09 22:12:46   3539277   \n",
       "4567262  89703756EC387E199D5F885906938D18  2015-08-11 00:31:56    890883   \n",
       "4038599  BA63B934F117C17C9ADF00F44CC2D0E5  2015-10-17 17:21:26   3626990   \n",
       "6626248  D40A385F3D37771CED6D9413A3A6314C  2015-08-27 09:43:44   3612714   \n",
       "\n",
       "                         pkg_name  vercode  vt_detection         vt_scan_date  \\\n",
       "8073590           ATIPIC_EVAL.GUI     15.0           0.0  2016-02-02 14:30:50   \n",
       "4029119         Android.ComicData     45.0           0.0  2016-03-16 09:26:13   \n",
       "4567262      Android.JokeProject1     29.0          17.0  2018-11-01 16:39:02   \n",
       "4038599  Android.WirelessPassword     24.0           9.0  2016-03-29 11:22:40   \n",
       "6626248           ArgosHAN.Mobile     11.0           0.0  2016-02-02 14:34:41   \n",
       "\n",
       "         dex_size          markets  \n",
       "8073590    608128  play.google.com  \n",
       "4029119   5838184  play.google.com  \n",
       "4567262    847892         appchina  \n",
       "4038599   7049264  play.google.com  \n",
       "6626248   1003292  play.google.com  "
      ]
     },
     "execution_count": 10,
     "metadata": {},
     "output_type": "execute_result"
    }
   ],
   "source": [
    "data_info.head()"
   ]
  },
  {
   "cell_type": "code",
   "execution_count": 11,
   "metadata": {},
   "outputs": [
    {
     "name": "stdout",
     "output_type": "stream",
     "text": [
      "191189\n"
     ]
    }
   ],
   "source": [
    "print(len(data_info))"
   ]
  },
  {
   "cell_type": "code",
   "execution_count": 14,
   "metadata": {},
   "outputs": [],
   "source": [
    "import numpy as np\n",
    "# vt_detection: The number of AV from VirusTotal (VT) \n",
    "data_info = data_info[np.isfinite(data_info['vt_detection'])]"
   ]
  },
  {
   "cell_type": "code",
   "execution_count": 15,
   "metadata": {},
   "outputs": [
    {
     "name": "stdout",
     "output_type": "stream",
     "text": [
      "190339\n"
     ]
    }
   ],
   "source": [
    "print(len(data_info))"
   ]
  },
  {
   "cell_type": "code",
   "execution_count": 16,
   "metadata": {},
   "outputs": [
    {
     "data": {
      "text/html": [
       "<div>\n",
       "<style scoped>\n",
       "    .dataframe tbody tr th:only-of-type {\n",
       "        vertical-align: middle;\n",
       "    }\n",
       "\n",
       "    .dataframe tbody tr th {\n",
       "        vertical-align: top;\n",
       "    }\n",
       "\n",
       "    .dataframe thead th {\n",
       "        text-align: right;\n",
       "    }\n",
       "</style>\n",
       "<table border=\"1\" class=\"dataframe\">\n",
       "  <thead>\n",
       "    <tr style=\"text-align: right;\">\n",
       "      <th></th>\n",
       "      <th>sha256</th>\n",
       "      <th>sha1</th>\n",
       "      <th>md5</th>\n",
       "      <th>dex_date</th>\n",
       "      <th>apk_size</th>\n",
       "      <th>pkg_name</th>\n",
       "      <th>vercode</th>\n",
       "      <th>vt_detection</th>\n",
       "      <th>vt_scan_date</th>\n",
       "      <th>dex_size</th>\n",
       "      <th>markets</th>\n",
       "    </tr>\n",
       "  </thead>\n",
       "  <tbody>\n",
       "    <tr>\n",
       "      <th>8073590</th>\n",
       "      <td>E8509099028F0513E1C2B9CFC92B863BACF0972634D2DA...</td>\n",
       "      <td>B0831CABDAC7430E1BEA639F6CA000B8FECDA9EB</td>\n",
       "      <td>20B0B2BFFB872D639B922CB885FC1475</td>\n",
       "      <td>2015-08-28 07:13:40</td>\n",
       "      <td>1205663</td>\n",
       "      <td>ATIPIC_EVAL.GUI</td>\n",
       "      <td>15.0</td>\n",
       "      <td>0.0</td>\n",
       "      <td>2016-02-02 14:30:50</td>\n",
       "      <td>608128</td>\n",
       "      <td>play.google.com</td>\n",
       "    </tr>\n",
       "    <tr>\n",
       "      <th>4029119</th>\n",
       "      <td>73F2480E5D76D8BC4AADB56B24EBCD0844AB11C9AE4DFC...</td>\n",
       "      <td>ACDEB9368D521BC6089BC76FE392AB81605AC4FA</td>\n",
       "      <td>88D5B49C5D72AE95E268C8A1056B1CE5</td>\n",
       "      <td>2015-07-09 22:12:46</td>\n",
       "      <td>3539277</td>\n",
       "      <td>Android.ComicData</td>\n",
       "      <td>45.0</td>\n",
       "      <td>0.0</td>\n",
       "      <td>2016-03-16 09:26:13</td>\n",
       "      <td>5838184</td>\n",
       "      <td>play.google.com</td>\n",
       "    </tr>\n",
       "    <tr>\n",
       "      <th>4567262</th>\n",
       "      <td>8365B2A6DCB9E097BCD50975226858BFC6EE4F236F5DC4...</td>\n",
       "      <td>37A648F30FD5DDBECF247644F04C2D0227389E9B</td>\n",
       "      <td>89703756EC387E199D5F885906938D18</td>\n",
       "      <td>2015-08-11 00:31:56</td>\n",
       "      <td>890883</td>\n",
       "      <td>Android.JokeProject1</td>\n",
       "      <td>29.0</td>\n",
       "      <td>17.0</td>\n",
       "      <td>2018-11-01 16:39:02</td>\n",
       "      <td>847892</td>\n",
       "      <td>appchina</td>\n",
       "    </tr>\n",
       "    <tr>\n",
       "      <th>4038599</th>\n",
       "      <td>74386727C0162BD27654E1D066419E3DB95C868A34BF0E...</td>\n",
       "      <td>3B19DC19029A2983225DD9DD570111FA8D5FCDB6</td>\n",
       "      <td>BA63B934F117C17C9ADF00F44CC2D0E5</td>\n",
       "      <td>2015-10-17 17:21:26</td>\n",
       "      <td>3626990</td>\n",
       "      <td>Android.WirelessPassword</td>\n",
       "      <td>24.0</td>\n",
       "      <td>9.0</td>\n",
       "      <td>2016-03-29 11:22:40</td>\n",
       "      <td>7049264</td>\n",
       "      <td>play.google.com</td>\n",
       "    </tr>\n",
       "    <tr>\n",
       "      <th>6626248</th>\n",
       "      <td>BE9F31FF1B1D6686229A845C7E382C34ACFBA2618A9254...</td>\n",
       "      <td>1893E32F7345E1B0CCA206372AE1BF4465D1B75A</td>\n",
       "      <td>D40A385F3D37771CED6D9413A3A6314C</td>\n",
       "      <td>2015-08-27 09:43:44</td>\n",
       "      <td>3612714</td>\n",
       "      <td>ArgosHAN.Mobile</td>\n",
       "      <td>11.0</td>\n",
       "      <td>0.0</td>\n",
       "      <td>2016-02-02 14:34:41</td>\n",
       "      <td>1003292</td>\n",
       "      <td>play.google.com</td>\n",
       "    </tr>\n",
       "  </tbody>\n",
       "</table>\n",
       "</div>"
      ],
      "text/plain": [
       "                                                    sha256  \\\n",
       "8073590  E8509099028F0513E1C2B9CFC92B863BACF0972634D2DA...   \n",
       "4029119  73F2480E5D76D8BC4AADB56B24EBCD0844AB11C9AE4DFC...   \n",
       "4567262  8365B2A6DCB9E097BCD50975226858BFC6EE4F236F5DC4...   \n",
       "4038599  74386727C0162BD27654E1D066419E3DB95C868A34BF0E...   \n",
       "6626248  BE9F31FF1B1D6686229A845C7E382C34ACFBA2618A9254...   \n",
       "\n",
       "                                             sha1  \\\n",
       "8073590  B0831CABDAC7430E1BEA639F6CA000B8FECDA9EB   \n",
       "4029119  ACDEB9368D521BC6089BC76FE392AB81605AC4FA   \n",
       "4567262  37A648F30FD5DDBECF247644F04C2D0227389E9B   \n",
       "4038599  3B19DC19029A2983225DD9DD570111FA8D5FCDB6   \n",
       "6626248  1893E32F7345E1B0CCA206372AE1BF4465D1B75A   \n",
       "\n",
       "                                      md5             dex_date  apk_size  \\\n",
       "8073590  20B0B2BFFB872D639B922CB885FC1475  2015-08-28 07:13:40   1205663   \n",
       "4029119  88D5B49C5D72AE95E268C8A1056B1CE5  2015-07-09 22:12:46   3539277   \n",
       "4567262  89703756EC387E199D5F885906938D18  2015-08-11 00:31:56    890883   \n",
       "4038599  BA63B934F117C17C9ADF00F44CC2D0E5  2015-10-17 17:21:26   3626990   \n",
       "6626248  D40A385F3D37771CED6D9413A3A6314C  2015-08-27 09:43:44   3612714   \n",
       "\n",
       "                         pkg_name  vercode  vt_detection         vt_scan_date  \\\n",
       "8073590           ATIPIC_EVAL.GUI     15.0           0.0  2016-02-02 14:30:50   \n",
       "4029119         Android.ComicData     45.0           0.0  2016-03-16 09:26:13   \n",
       "4567262      Android.JokeProject1     29.0          17.0  2018-11-01 16:39:02   \n",
       "4038599  Android.WirelessPassword     24.0           9.0  2016-03-29 11:22:40   \n",
       "6626248           ArgosHAN.Mobile     11.0           0.0  2016-02-02 14:34:41   \n",
       "\n",
       "         dex_size          markets  \n",
       "8073590    608128  play.google.com  \n",
       "4029119   5838184  play.google.com  \n",
       "4567262    847892         appchina  \n",
       "4038599   7049264  play.google.com  \n",
       "6626248   1003292  play.google.com  "
      ]
     },
     "execution_count": 16,
     "metadata": {},
     "output_type": "execute_result"
    }
   ],
   "source": [
    "data_info.head()"
   ]
  },
  {
   "cell_type": "code",
   "execution_count": 18,
   "metadata": {},
   "outputs": [
    {
     "name": "stdout",
     "output_type": "stream",
     "text": [
      "36528\n"
     ]
    }
   ],
   "source": [
    "print(len(data_info.loc[data_info['vt_detection'] > 0]))"
   ]
  },
  {
   "cell_type": "code",
   "execution_count": 19,
   "metadata": {},
   "outputs": [
    {
     "name": "stdout",
     "output_type": "stream",
     "text": [
      "153811\n"
     ]
    }
   ],
   "source": [
    "print(len(data_info.loc[data_info['vt_detection'] == 0]))"
   ]
  },
  {
   "cell_type": "code",
   "execution_count": 20,
   "metadata": {},
   "outputs": [
    {
     "name": "stdout",
     "output_type": "stream",
     "text": [
      "190339\n"
     ]
    }
   ],
   "source": [
    "print(len(data_info))"
   ]
  },
  {
   "cell_type": "code",
   "execution_count": 21,
   "metadata": {},
   "outputs": [],
   "source": [
    "apk_info = data_info.to_csv('/media/hvdthong/cd8eddc8-4ee9-44d6-b7a1-52d9d4bd677c/DATA_PROGRAM_REPRESENTATION/apk_info.csv', index=False)"
   ]
  },
  {
   "cell_type": "code",
   "execution_count": 22,
   "metadata": {},
   "outputs": [
    {
     "name": "stdout",
     "output_type": "stream",
     "text": [
      "190339\n"
     ]
    }
   ],
   "source": [
    "print(len(data_info))"
   ]
  },
  {
   "cell_type": "code",
   "execution_count": null,
   "metadata": {},
   "outputs": [],
   "source": []
  }
 ],
 "metadata": {
  "kernelspec": {
   "display_name": "Python 3",
   "language": "python",
   "name": "python3"
  },
  "language_info": {
   "codemirror_mode": {
    "name": "ipython",
    "version": 3
   },
   "file_extension": ".py",
   "mimetype": "text/x-python",
   "name": "python",
   "nbconvert_exporter": "python",
   "pygments_lexer": "ipython3",
   "version": "3.7.3"
  }
 },
 "nbformat": 4,
 "nbformat_minor": 2
}
